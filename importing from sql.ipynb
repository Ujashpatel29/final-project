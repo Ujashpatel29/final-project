{
 "cells": [
  {
   "cell_type": "code",
   "execution_count": 1,
   "id": "2e873ba8-2bdb-4fe1-87a5-6a982664509b",
   "metadata": {},
   "outputs": [
    {
     "name": "stdout",
     "output_type": "stream",
     "text": [
      "Requirement already satisfied: sqlalchemy in c:\\users\\mnnis\\anaconda3\\lib\\site-packages (2.0.34)\n",
      "Requirement already satisfied: pandas in c:\\users\\mnnis\\anaconda3\\lib\\site-packages (2.2.2)\n",
      "Requirement already satisfied: mysql-connector-python in c:\\users\\mnnis\\anaconda3\\lib\\site-packages (9.1.0)\n",
      "Requirement already satisfied: typing-extensions>=4.6.0 in c:\\users\\mnnis\\anaconda3\\lib\\site-packages (from sqlalchemy) (4.11.0)\n",
      "Requirement already satisfied: greenlet!=0.4.17 in c:\\users\\mnnis\\anaconda3\\lib\\site-packages (from sqlalchemy) (3.0.1)\n",
      "Requirement already satisfied: numpy>=1.26.0 in c:\\users\\mnnis\\anaconda3\\lib\\site-packages (from pandas) (1.26.4)\n",
      "Requirement already satisfied: python-dateutil>=2.8.2 in c:\\users\\mnnis\\anaconda3\\lib\\site-packages (from pandas) (2.9.0.post0)\n",
      "Requirement already satisfied: pytz>=2020.1 in c:\\users\\mnnis\\anaconda3\\lib\\site-packages (from pandas) (2024.1)\n",
      "Requirement already satisfied: tzdata>=2022.7 in c:\\users\\mnnis\\anaconda3\\lib\\site-packages (from pandas) (2023.3)\n",
      "Requirement already satisfied: six>=1.5 in c:\\users\\mnnis\\anaconda3\\lib\\site-packages (from python-dateutil>=2.8.2->pandas) (1.16.0)\n",
      "Note: you may need to restart the kernel to use updated packages.\n"
     ]
    }
   ],
   "source": [
    "pip install sqlalchemy pandas mysql-connector-python"
   ]
  },
  {
   "cell_type": "code",
   "execution_count": 9,
   "id": "babc92a8-2f58-4da0-99b8-c58179676bfd",
   "metadata": {},
   "outputs": [
    {
     "name": "stdout",
     "output_type": "stream",
     "text": [
      "  InvoiceNo StockCode                          Description  Quantity  \\\n",
      "0    536365    85123A   WHITE HANGING HEART T-LIGHT HOLDER         6   \n",
      "1    536365     71053                  WHITE METAL LANTERN         6   \n",
      "2    536365    84406B       CREAM CUPID HEARTS COAT HANGER         8   \n",
      "3    536365    84029G  KNITTED UNION FLAG HOT WATER BOTTLE         6   \n",
      "4    536365    84029E       RED WOOLLY HOTTIE WHITE HEART.         6   \n",
      "\n",
      "          InvoiceDate  UnitPrice CustomerID         Country    Month  \n",
      "0 2010-12-01 08:26:00       2.55    17850.0  United Kingdom  2010-12  \n",
      "1 2010-12-01 08:26:00       3.39    17850.0  United Kingdom  2010-12  \n",
      "2 2010-12-01 08:26:00       2.75    17850.0  United Kingdom  2010-12  \n",
      "3 2010-12-01 08:26:00       3.39    17850.0  United Kingdom  2010-12  \n",
      "4 2010-12-01 08:26:00       3.39    17850.0  United Kingdom  2010-12  \n",
      "Data saved to 'retail_sales_data_final.csv'\n"
     ]
    }
   ],
   "source": [
    "from sqlalchemy import create_engine\n",
    "import pandas as pd\n",
    "\n",
    "DB_USER = \"root\"\n",
    "DB_PASSWORD = \"Team_123\"\n",
    "DB_HOST = \"10.x.x.x\"  #not actual \n",
    "DB_NAME = \"retail\"\n",
    "engine = create_engine(f'mysql+mysqlconnector://{DB_USER}:{DB_PASSWORD}@{DB_HOST}/{DB_NAME}')\n",
    "\n",
    "query = \"SELECT * FROM retail_sales;\"  \n",
    "\n",
    "try:\n",
    "    with engine.connect() as connection:\n",
    "        df = pd.read_sql(query, con=connection)\n",
    "\n",
    "    print(df.head())\n",
    "    \n",
    "    df.to_csv(\"retail_sales_data_final.csv\", index=False)\n",
    "    print(\"Data saved to 'retail_sales_data_final.csv'\")\n",
    "except Exception as e:\n",
    "    print(f\"Error occurred: {e}\")\n"
   ]
  },
  {
   "cell_type": "code",
   "execution_count": 11,
   "id": "07a1baf8-9040-425b-9d98-fe8b0079e032",
   "metadata": {},
   "outputs": [
    {
     "data": {
      "text/plain": [
       "4877181"
      ]
     },
     "execution_count": 11,
     "metadata": {},
     "output_type": "execute_result"
    }
   ],
   "source": [
    "df.size"
   ]
  },
  {
   "cell_type": "code",
   "execution_count": null,
   "id": "b7d9cbc7-a87c-4849-8edc-f6fd5f487690",
   "metadata": {},
   "outputs": [],
   "source": []
  }
 ],
 "metadata": {
  "kernelspec": {
   "display_name": "Python 3 (ipykernel)",
   "language": "python",
   "name": "python3"
  },
  "language_info": {
   "codemirror_mode": {
    "name": "ipython",
    "version": 3
   },
   "file_extension": ".py",
   "mimetype": "text/x-python",
   "name": "python",
   "nbconvert_exporter": "python",
   "pygments_lexer": "ipython3",
   "version": "3.12.7"
  }
 },
 "nbformat": 4,
 "nbformat_minor": 5
}
